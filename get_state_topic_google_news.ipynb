{
 "cells": [
  {
   "cell_type": "code",
   "execution_count": 4,
   "metadata": {},
   "outputs": [],
   "source": [
    "import pandas as pd\n",
    "from bs4 import BeautifulSoup\n",
    "import requests\n",
    "pd.options.display.max_rows = 100"
   ]
  },
  {
   "cell_type": "code",
   "execution_count": 8,
   "metadata": {},
   "outputs": [],
   "source": [
    "def get_state_topic_google_news(state, topic):\n",
    "    \"\"\"This function takes a US State name (string dtype) and a topic of interest (string dtype).\n",
    "    The output is a pandas DataFrame with articles, urls, and publishing time for articles\n",
    "    containing the state and topic\n",
    "    \"\"\"\n",
    "    \n",
    "    url = \"https://news.google.com/rss/search?={}+{}&hl=en-US&gl=US&ceid=US:en\".format(state, topic)\n",
    "    list_of_titles = []\n",
    "    list_of_article_links = []\n",
    "    list_of_pubdates = []\n",
    "    state_id_for_articles = []\n",
    "    \n",
    "    page = requests.get(url)\n",
    "    soup = BeautifulSoup(page.content, 'lxml')\n",
    "    xml = str(list(soup)).split('<item><title>')\n",
    "    \n",
    "    for i in range(len(xml[1:-1])):\n",
    "        list_of_titles.append(xml[i+1].split(\"</title>\")[0])\n",
    "        list_of_article_links.append(xml[i+1].split(\"</title><link/>\")[1].split(\"guid ispermalink\")[0])\n",
    "        list_of_pubdates.append(xml[i+1].split(\"</guid><pubdate>\")[1].split(\"</pubdate>\")[0])\n",
    "        state_id_for_articles.appened(state)\n",
    "    \n",
    "    df = pd.DataFrame([list_of_titles, list_of_article_links, list_of_pubdates, state_id_for_articles]).T\n",
    "    df.columns = [\"Title\", \"URL\", \"Published\", \"State\"]\n",
    "    df[\"Source\"] = df[\"Title\"].str.split(\"-\").str[-1]\n",
    "    return df"
   ]
  },
  {
   "cell_type": "code",
   "execution_count": 9,
   "metadata": {},
   "outputs": [
    {
     "ename": "NameError",
     "evalue": "name 'df' is not defined",
     "output_type": "error",
     "traceback": [
      "\u001b[0;31m---------------------------------------------------------------------------\u001b[0m",
      "\u001b[0;31mNameError\u001b[0m                                 Traceback (most recent call last)",
      "\u001b[0;32m<ipython-input-9-00cf07b74dcd>\u001b[0m in \u001b[0;36m<module>\u001b[0;34m\u001b[0m\n\u001b[0;32m----> 1\u001b[0;31m \u001b[0mdf\u001b[0m\u001b[0;34m\u001b[0m\u001b[0;34m\u001b[0m\u001b[0m\n\u001b[0m",
      "\u001b[0;31mNameError\u001b[0m: name 'df' is not defined"
     ]
    }
   ],
   "source": []
  },
  {
   "cell_type": "code",
   "execution_count": null,
   "metadata": {},
   "outputs": [],
   "source": []
  }
 ],
 "metadata": {
  "kernelspec": {
   "display_name": "Python 3",
   "language": "python",
   "name": "python3"
  },
  "language_info": {
   "codemirror_mode": {
    "name": "ipython",
    "version": 3
   },
   "file_extension": ".py",
   "mimetype": "text/x-python",
   "name": "python",
   "nbconvert_exporter": "python",
   "pygments_lexer": "ipython3",
   "version": "3.8.3"
  }
 },
 "nbformat": 4,
 "nbformat_minor": 4
}
